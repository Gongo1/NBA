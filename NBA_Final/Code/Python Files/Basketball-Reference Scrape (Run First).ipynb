{
 "cells": [
  {
   "cell_type": "code",
   "execution_count": 25,
   "metadata": {},
   "outputs": [],
   "source": [
    "import matplotlib.pyplot as plt\n",
    "import seaborn as sns\n",
    "import pandas as pd\n",
    "from collections import Counter\n",
    "from urllib.request import urlopen\n",
    "from bs4 import BeautifulSoup\n",
    "import re\n",
    "import numpy as np"
   ]
  },
  {
   "cell_type": "code",
   "execution_count": 7,
   "metadata": {},
   "outputs": [],
   "source": [
    "### Scrape Data from 1980 through this year\n",
    "### Function can get any available stat type from Basketball-Reference\n",
    "from datetime import datetime\n",
    "\n",
    "\n",
    "def get_stats(stat_type = 'advanced'):\n",
    "    current_year = int(datetime.now().year)\n",
    "    url_template = 'https://www.basketball-reference.com/leagues/NBA_{year}_{stat_type}.html'\n",
    "    player_pg_list = []\n",
    "    errors_list = []\n",
    "\n",
    "    ### 3PT Line introduced\n",
    "    for year in range(1980, current_year+1): \n",
    "\n",
    "        # Use try/except block to catch and inspect any urls that cause an error\n",
    "        try:\n",
    "            # get the draft url\n",
    "            url = url_template.format(year=year,stat_type=stat_type)\n",
    "\n",
    "            # get the html\n",
    "            html = urlopen(url)\n",
    "\n",
    "            # create the BeautifulSoup object\n",
    "            soup = BeautifulSoup(html, \"lxml\")     \n",
    "\n",
    "            # Scrape table element of html\n",
    "            table = soup.find('table')\n",
    "            table_rows = table.find_all('tr')\n",
    "            row_list = list()\n",
    "            for tr in table_rows:\n",
    "                td = tr.find_all('td')\n",
    "                th = tr.find_all('th')\n",
    "                row = [i.text for i in td]\n",
    "                row_list.append(row)\n",
    "            df = pd.DataFrame(row_list)\n",
    "            col_head = [h.text for h in table_rows[0].find_all('th')]\n",
    "            df = df[1:]\n",
    "            df.columns = col_head[1:]\n",
    "            df['Year'] = year\n",
    "            \n",
    "            ## For Players that changed teams, make sure that their season totals are taken\n",
    "            for index, row in df[df.Player.duplicated()].iterrows():\n",
    "                if row.Tm != 'TOT':\n",
    "                    df.drop(index,inplace = True)\n",
    "\n",
    "            player_pg_list.append(df)\n",
    "\n",
    "        except Exception as e:\n",
    "            # Store the url and the error it causes in a list\n",
    "            error =[url, e] \n",
    "            # then append it to the list of errors\n",
    "            errors_list.append(error)\n",
    "\n",
    "    player_pg = pd.concat(player_pg_list, ignore_index=True)\n",
    "    player_pg = player_pg.apply(pd.to_numeric, errors=\"ignore\")\n",
    "    \n",
    "    player_pg.dropna(axis = 1, how = 'all',inplace=True)\n",
    "\n",
    "    \n",
    "\n",
    "\n",
    "   \n",
    "    return player_pg"
   ]
  },
  {
   "cell_type": "code",
   "execution_count": 8,
   "metadata": {},
   "outputs": [],
   "source": [
    "# Get advanced and traditional per-game stats\n",
    "adv_stats = get_stats()\n",
    "gen_stats = get_stats(\"per_game\")"
   ]
  },
  {
   "cell_type": "code",
   "execution_count": 9,
   "metadata": {},
   "outputs": [],
   "source": [
    "adv_stat_copy = adv_stats\n",
    "gen_stats_copy = gen_stats"
   ]
  },
  {
   "cell_type": "code",
   "execution_count": 10,
   "metadata": {},
   "outputs": [],
   "source": [
    "# Clean the names of non-alphabetical characters\n",
    "def clean_names(df):\n",
    "    return [re.sub(pattern=\"\\*\",string=str(player),repl=\"\") for player in df.Player]\n",
    "adv_stats.Player = clean_names(adv_stats)\n",
    "gen_stats.Player = clean_names(gen_stats)"
   ]
  },
  {
   "cell_type": "code",
   "execution_count": 11,
   "metadata": {},
   "outputs": [],
   "source": [
    "## Get Experience level of player\n",
    "gen_stats['Exp'] = gen_stats.groupby('Player')['Player'].transform('count')\n"
   ]
  },
  {
   "cell_type": "code",
   "execution_count": 12,
   "metadata": {
    "scrolled": true
   },
   "outputs": [],
   "source": [
    "## This just removes any hypens and picks the first position as the player's main position\n",
    "def define_position(df):\n",
    "    pos_list = list()\n",
    "    for index, row in df.iterrows():\n",
    "        if row.Pos is None:\n",
    "            df.drop(index,inplace = True)\n",
    "        elif \"-\" in str(row.Pos):\n",
    "            df.loc[index,\"Pos\"] = (re.sub(pattern=\"-.+\",repl=\"\",string=row.Pos))\n",
    "    \n",
    "    #df[\"Pos1\"] = pd.Series(pos_list,name=\"Pos1\")\n",
    "    return df\n",
    "\n",
    "gen_stats1 = define_position(gen_stats)\n",
    "adv_stats1 = define_position(adv_stats)"
   ]
  },
  {
   "cell_type": "code",
   "execution_count": 13,
   "metadata": {},
   "outputs": [
    {
     "data": {
      "text/plain": [
       "PF    3460\n",
       "C     3405\n",
       "SG    3354\n",
       "PG    3207\n",
       "SF    3168\n",
       "Name: Pos, dtype: int64"
      ]
     },
     "execution_count": 13,
     "metadata": {},
     "output_type": "execute_result"
    }
   ],
   "source": [
    "adv_stats1.Pos.value_counts()"
   ]
  },
  {
   "cell_type": "code",
   "execution_count": 14,
   "metadata": {},
   "outputs": [],
   "source": [
    "#### The next few cells find how many total All-NBA selections a player has\n",
    "all_nba = pd.read_csv('ALL-NBA.csv')\n",
    "all_nba.drop(columns={'Lg','Tm'},inplace=True)\n",
    "all_nba_players = list()"
   ]
  },
  {
   "cell_type": "code",
   "execution_count": 15,
   "metadata": {},
   "outputs": [],
   "source": [
    "all_nba.Season = [re.sub(pattern = '.{2}-',string=all_nba.Season[season],repl = '') for season in range(len(all_nba.Season))]\n",
    "for player_list in all_nba.iloc[:,1:].values:\n",
    "    year_list = list()\n",
    "    for player in player_list:\n",
    "        year_list.append(re.sub(\"\\s[A-Z]$\",\"\",player)) \n",
    "    all_nba_players.append(year_list)\n",
    "all_nba.iloc[:,1:] = all_nba_players"
   ]
  },
  {
   "cell_type": "code",
   "execution_count": 16,
   "metadata": {
    "scrolled": false
   },
   "outputs": [],
   "source": [
    "from collections import Counter\n",
    "all_NBA_count = Counter(all_nba.iloc[:,1:].values.flatten())"
   ]
  },
  {
   "cell_type": "code",
   "execution_count": 17,
   "metadata": {},
   "outputs": [],
   "source": [
    "# Match player with the amount of times he was selected\n",
    "adv_stats1[\"All-NBA Selections\"] = adv_stats1['Player'].map(all_NBA_count)"
   ]
  },
  {
   "cell_type": "code",
   "execution_count": 18,
   "metadata": {},
   "outputs": [],
   "source": [
    "## Joining datasets from 'traditional' and 'advanced' stats\n",
    "cols_to_use = gen_stats1.columns.difference(adv_stats1.columns)\n",
    "df = pd.merge(adv_stats1, gen_stats1[cols_to_use],left_index=True,right_index=True, how='outer')"
   ]
  },
  {
   "cell_type": "code",
   "execution_count": 19,
   "metadata": {
    "scrolled": true
   },
   "outputs": [],
   "source": [
    "## Save for later use\n",
    "#adv_stats1.to_csv('Advanced Player Stats.csv')\n",
    "#gen_stats1.to_csv('Traditional Player Stats.csv')\n",
    "df.to_csv('Joined Player Stats.csv')"
   ]
  }
 ],
 "metadata": {
  "kernelspec": {
   "display_name": "Python 3",
   "language": "python",
   "name": "python3"
  },
  "language_info": {
   "codemirror_mode": {
    "name": "ipython",
    "version": 3
   },
   "file_extension": ".py",
   "mimetype": "text/x-python",
   "name": "python",
   "nbconvert_exporter": "python",
   "pygments_lexer": "ipython3",
   "version": "3.7.4"
  }
 },
 "nbformat": 4,
 "nbformat_minor": 2
}
