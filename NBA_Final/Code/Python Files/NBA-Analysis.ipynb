{
 "cells": [
  {
   "cell_type": "code",
   "execution_count": 1,
   "metadata": {},
   "outputs": [
    {
     "data": {
      "text/plain": [
       "'/Users/Austin/Desktop/NBA/interim'"
      ]
     },
     "execution_count": 1,
     "metadata": {},
     "output_type": "execute_result"
    }
   ],
   "source": [
    "import os\n",
    "import pandas \n",
    "import nltk\n",
    "from collections import Counter\n",
    "os.chdir(\"/Users/Austin/Desktop/NBA/interim\")\n",
    "os.getcwd()"
   ]
  },
  {
   "cell_type": "code",
   "execution_count": 145,
   "metadata": {
    "collapsed": true
   },
   "outputs": [],
   "source": [
    "nba = pandas.read_csv(\"Jan30,2017.csv\")\n",
    "#os.getcwd()\n"
   ]
  },
  {
   "cell_type": "code",
   "execution_count": 5,
   "metadata": {},
   "outputs": [
    {
     "data": {
      "text/plain": [
       "[('Lebron', 'NNP'),\n",
       " ('James', 'NNP'),\n",
       " ('is', 'VBZ'),\n",
       " ('the', 'DT'),\n",
       " ('best', 'JJS'),\n",
       " ('player', 'NN'),\n",
       " ('in', 'IN'),\n",
       " ('the', 'DT'),\n",
       " ('league', 'NN'),\n",
       " ('and', 'CC'),\n",
       " ('is', 'VBZ'),\n",
       " ('better', 'JJR'),\n",
       " ('than', 'IN'),\n",
       " ('Michael', 'NNP'),\n",
       " ('Jordan', 'NNP')]"
      ]
     },
     "execution_count": 5,
     "metadata": {},
     "output_type": "execute_result"
    }
   ],
   "source": [
    "#List of NBA Teams for reference\n",
    "s = \"Lebron James is the best player in the league and is better than Michael Jordan\"\n",
    "nltk.tag.pos_tag(s.split())\n",
    "\n"
   ]
  },
  {
   "cell_type": "code",
   "execution_count": 147,
   "metadata": {
    "collapsed": true
   },
   "outputs": [],
   "source": [
    "#Based on article Titles - October 2018 - would make things a lot faster???\n",
    "#Before anaylsis remove the NBA team names bc they get listed as proper nouns \n",
    "#Make Freq table of all the NNPs & NNP - plural/sinuglar of Poprer nouns \n",
    "#Names like Irgin are having trouble - article 29\n",
    "\n",
    "title = nba[\"Title\"]\n",
    "\n",
    "#Clean Up Title's\n",
    "title = [s.replace(':', '') for s in title]\n",
    "title = [s.replace(',', '') for s in title]\n",
    "title = [s.replace(\"'\", '') for s in title]\n",
    "title = [s.replace(\";\", '') for s in title]"
   ]
  },
  {
   "cell_type": "code",
   "execution_count": 148,
   "metadata": {
    "collapsed": true
   },
   "outputs": [],
   "source": [
    "monthly_mentions = []\n",
    "for i in title:\n",
    "    sentence = nltk.tag.pos_tag(i.split())\n",
    "    edited_sentence = [word for word,tag in sentence if tag == 'NNP' or tag == 'NNPS']\n",
    "    ListCount = Counter(edited_sentence)\n",
    "    for ThisItem in ListCount.items():\n",
    "        monthly_mentions.append(ThisItem[0])\n",
    "\n"
   ]
  },
  {
   "cell_type": "code",
   "execution_count": 149,
   "metadata": {
    "collapsed": true
   },
   "outputs": [],
   "source": [
    "#Convert Counter to a usable list to import into R\n",
    "ppn_list = Counter(monthly_mentions)\n",
    "dic1 = ppn_list.items()\n",
    "month_count = list(dic1)\n",
    "\n"
   ]
  },
  {
   "cell_type": "code",
   "execution_count": 150,
   "metadata": {},
   "outputs": [
    {
     "name": "stdout",
     "output_type": "stream",
     "text": [
      "Jan30,2017\n"
     ]
    }
   ],
   "source": [
    "#File naming Convention \n",
    "name = str(list(nba[\"Date\"])[-1]).replace(\" \",\"\")\n",
    "print(name)"
   ]
  },
  {
   "cell_type": "code",
   "execution_count": 151,
   "metadata": {
    "collapsed": true
   },
   "outputs": [],
   "source": [
    "#Writing the Month Count to CSV \n",
    "#Files of Interest are stored in /data/\n",
    "import csv\n",
    "\n",
    "os.chdir(\"../data/\")\n",
    "with open(name+\".csv\", \"w\", newline=\"\") as f:\n",
    "    writer = csv.writer(f)\n",
    "    writer.writerows(month_count)\n",
    "\n",
    "os.chdir(\"..\")"
   ]
  },
  {
   "cell_type": "code",
   "execution_count": null,
   "metadata": {
    "collapsed": true
   },
   "outputs": [],
   "source": []
  },
  {
   "cell_type": "code",
   "execution_count": null,
   "metadata": {
    "collapsed": true
   },
   "outputs": [],
   "source": []
  },
  {
   "cell_type": "code",
   "execution_count": null,
   "metadata": {
    "collapsed": true
   },
   "outputs": [],
   "source": []
  }
 ],
 "metadata": {
  "kernelspec": {
   "display_name": "Python 3",
   "language": "python",
   "name": "python3"
  },
  "language_info": {
   "codemirror_mode": {
    "name": "ipython",
    "version": 3
   },
   "file_extension": ".py",
   "mimetype": "text/x-python",
   "name": "python",
   "nbconvert_exporter": "python",
   "pygments_lexer": "ipython3",
   "version": "3.6.3"
  }
 },
 "nbformat": 4,
 "nbformat_minor": 2
}
