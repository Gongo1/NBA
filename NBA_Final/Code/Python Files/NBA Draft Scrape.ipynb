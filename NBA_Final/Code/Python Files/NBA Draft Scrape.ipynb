{
 "cells": [
  {
   "cell_type": "code",
   "execution_count": 55,
   "metadata": {},
   "outputs": [],
   "source": [
    "import pandas as pd\n",
    "from bs4 import BeautifulSoup\n",
    "from urllib.request import urlopen"
   ]
  },
  {
   "cell_type": "code",
   "execution_count": 56,
   "metadata": {},
   "outputs": [],
   "source": [
    "from datetime import datetime\n",
    "import unicodedata\n",
    "import re\n",
    "def clean_names(df):\n",
    "    return [re.sub(pattern=\"\\*\",string=str(player),repl=\"\") for player in df.Player]\n",
    "\n",
    "\n",
    "def get_drafts():\n",
    "    current_year = int(datetime.now().year)\n",
    "    url_template = 'https://www.basketball-reference.com/draft/NBA_{year}.html'\n",
    "    draft_list = []\n",
    "    errors_list = []\n",
    "\n",
    "    for year in range(1970, current_year+1): \n",
    "\n",
    "        # Use try/except block to catch and inspect any urls that cause an error\n",
    "        try:\n",
    "            # get the draft url\n",
    "            url = url_template.format(year=year)\n",
    "\n",
    "            # get the html\n",
    "            html = urlopen(url)\n",
    "\n",
    "            # create the BeautifulSoup object\n",
    "            soup = BeautifulSoup(html, \"lxml\")     \n",
    "\n",
    "            table = soup.find('tbody')\n",
    "            table_rows = table.find_all('tr')\n",
    "            row_list = list()\n",
    "            for tr in table_rows:\n",
    "                td = tr.find_all('td')\n",
    "                th = tr.find_all('th')\n",
    "                row = [i.text for i in td]\n",
    "                row_list.append(row[0:4])\n",
    "            df = pd.DataFrame(row_list)\n",
    "            df.columns = ['Pick','Tm','Player','School/Country']\n",
    "            df['Year'] = year\n",
    "        \n",
    "            draft_list.append(df)\n",
    "\n",
    "        except Exception as e:\n",
    "            # Store the url and the error it causes in a list\n",
    "            error =[url, e] \n",
    "            # then append it to the list of errors\n",
    "            errors_list.append(error)\n",
    "        \n",
    "        \n",
    "    draft_df = pd.concat(draft_list, ignore_index=True)\n",
    "    draft_df = draft_df.apply(pd.to_numeric, errors=\"ignore\")\n",
    "    draft_df.drop(columns={'Tm'},inplace=True)\n",
    "    return draft_df\n",
    "\n",
    "\n",
    "def strip_accents(s):\n",
    "    return ''.join(c for c in unicodedata.normalize('NFD', s)\n",
    "                  if unicodedata.category(c) != 'Mn')"
   ]
  },
  {
   "cell_type": "code",
   "execution_count": 57,
   "metadata": {},
   "outputs": [],
   "source": [
    "df = get_drafts()\n",
    "df.Player = clean_names(df)\n",
    "df.Player = df['Player'].apply(strip_accents)"
   ]
  },
  {
   "cell_type": "code",
   "execution_count": 58,
   "metadata": {},
   "outputs": [
    {
     "data": {
      "text/html": [
       "<div>\n",
       "<style scoped>\n",
       "    .dataframe tbody tr th:only-of-type {\n",
       "        vertical-align: middle;\n",
       "    }\n",
       "\n",
       "    .dataframe tbody tr th {\n",
       "        vertical-align: top;\n",
       "    }\n",
       "\n",
       "    .dataframe thead th {\n",
       "        text-align: right;\n",
       "    }\n",
       "</style>\n",
       "<table border=\"1\" class=\"dataframe\">\n",
       "  <thead>\n",
       "    <tr style=\"text-align: right;\">\n",
       "      <th></th>\n",
       "      <th>Pick</th>\n",
       "      <th>Player</th>\n",
       "      <th>School/Country</th>\n",
       "      <th>Year</th>\n",
       "    </tr>\n",
       "  </thead>\n",
       "  <tbody>\n",
       "  </tbody>\n",
       "</table>\n",
       "</div>"
      ],
      "text/plain": [
       "Empty DataFrame\n",
       "Columns: [Pick, Player, School/Country, Year]\n",
       "Index: []"
      ]
     },
     "execution_count": 58,
     "metadata": {},
     "output_type": "execute_result"
    }
   ],
   "source": [
    "df[df.Pick == 1997]"
   ]
  },
  {
   "cell_type": "code",
   "execution_count": 59,
   "metadata": {},
   "outputs": [],
   "source": [
    "df.Pick = pd.to_numeric(df.Pick,errors = 'coerce')"
   ]
  },
  {
   "cell_type": "code",
   "execution_count": 60,
   "metadata": {},
   "outputs": [
    {
     "data": {
      "text/plain": [
       "239.0"
      ]
     },
     "execution_count": 60,
     "metadata": {},
     "output_type": "execute_result"
    }
   ],
   "source": [
    "max(df.Pick)"
   ]
  },
  {
   "cell_type": "code",
   "execution_count": 61,
   "metadata": {},
   "outputs": [],
   "source": [
    "df.to_csv('Draft.csv',)"
   ]
  }
 ],
 "metadata": {
  "kernelspec": {
   "display_name": "Python 3",
   "language": "python",
   "name": "python3"
  },
  "language_info": {
   "codemirror_mode": {
    "name": "ipython",
    "version": 3
   },
   "file_extension": ".py",
   "mimetype": "text/x-python",
   "name": "python",
   "nbconvert_exporter": "python",
   "pygments_lexer": "ipython3",
   "version": "3.7.4"
  }
 },
 "nbformat": 4,
 "nbformat_minor": 2
}
